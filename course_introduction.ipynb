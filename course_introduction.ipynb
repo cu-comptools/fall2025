{
 "cells": [
  {
   "cell_type": "markdown",
   "metadata": {},
   "source": [
    "# 0. Course introduction"
   ]
  },
  {
   "cell_type": "markdown",
   "metadata": {},
   "source": [
    "## Agenda for first class\n",
    "\n",
    "- Introductions\n",
    "- Time of office hours\n",
    "- Where to find lecture notes\n",
    "- Grading\n",
    "- Motivation (starting below)"
   ]
  },
  {
   "cell_type": "markdown",
   "metadata": {},
   "source": [
    "## 0.1 Motivation\n",
    "\n",
    "The aim of this course is to familiarize you with _computational tools_, both mathematical algorithms and coding best practices, for solving some challenging problems in science and engineering. It will expose you to some lesser-known, but useful numerical methods, teach you how to pick the best tool given known properties of the problem, measure the performance of your algorithm, and to evaluate what accuracy you can expect from your numerical solution.\n",
    "\n",
    "We will start by reviewing computation fundamentals (floating point arithmethic, roundoff errors, backwards stability), after which we'll go over the most common building blocks encountered in algorithms (interpolation, numerical differentiation, quadrature, solving a linear system) and build up to some less common solvers for ordinary differential equations (ODEs) and the solution of linear partial differential equations (PDEs) via integral equations (IEs).\n",
    "\n",
    "Physical law and processes are overwhelmingly expressed in terms of ODEs or PDEs. Their numerical solution will involve discretizing the domain of solution and the operators involved, turning exact derivatives into numerical differentiation, and integration into quadrature. Discretization will often turn the ODE/PDE into a linear system, which has to be solved. Producing an approximate solution at points other than the discretization nodes requires interpolation. \n",
    "\n",
    "Throughout the course, we'll focus on _high-order accurate_ methods. High-order accuracy ensures that the methods stay efficient if high accuracy is demanded of them. This is crucial if the problem being solved is _badly conditioned_, meaning the answer/output is prone to large changes at small perturbations of the parameters/input. In practice, it means that the problem amplifies small errors, even if the best (backwards stable) algorithm is being used, therefore we are forced to set a low tolerance when applying our numerical method of choice. We can only hope for an acceptable runtime if the method was efficient at low tolerances, i.e. it was high-order accurate."
   ]
  },
  {
   "cell_type": "markdown",
   "metadata": {},
   "source": []
  },
  {
   "cell_type": "code",
   "execution_count": null,
   "metadata": {},
   "outputs": [],
   "source": []
  }
 ],
 "metadata": {
  "kernelspec": {
   "display_name": "Python 3 (ipykernel)",
   "language": "python",
   "name": "python3"
  },
  "language_info": {
   "codemirror_mode": {
    "name": "ipython",
    "version": 3
   },
   "file_extension": ".py",
   "mimetype": "text/x-python",
   "name": "python",
   "nbconvert_exporter": "python",
   "pygments_lexer": "ipython3",
   "version": "3.10.16"
  },
  "widgets": {
   "application/vnd.jupyter.widget-state+json": {
    "state": {},
    "version_major": 2,
    "version_minor": 0
   }
  }
 },
 "nbformat": 4,
 "nbformat_minor": 4
}
