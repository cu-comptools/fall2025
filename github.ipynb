{
 "cells": [
  {
   "cell_type": "markdown",
   "id": "6f2d05e3",
   "metadata": {},
   "source": [
    "# 2. Good coding practices\n",
    "\n",
    "## 2.1 Version control (with GitHub)\n",
    "\n",
    "Version control is the practice of tracking and organizing (source) code in software engineering.\n",
    "GitHub is a version control system which automates this process. It allows you to roll back to previous versions of your code, make experimental changes on new branches, merge fixes, and work collaboratively on the same codebase.\n",
    "\n",
    "```{admonition} Exercise\n",
    "1. Create an account on GitHub.\n",
    "2. It is strongly recommended that you use the command line interface, so if you're using Windows, please make sure you have access to a unix-based terminal, via e.g. the [Windows Subsystem for Linux](https://learn.microsoft.com/en-us/windows/wsl/about), or [Cygwin](https://www.cygwin.com), or the Windows Terminal, or Git Bash, etc. To install it, in the terminal run `sudo apt-get install git`\n",
    "on Linux, or `brew install git` on MacOS.\n",
    "```\n",
    "\n",
    "On GitHub, your code is organized in structures called _repositories_, which you can think of as separate projects. Within a repository, your code may be organized in a directory structure. It is stored \"in the cloud\", meaning on some server somewhere else.\n",
    "\n",
    "You can have several copies of the code that lives on GitHub, e.g. on your personal laptop, on your workstation at the university, etc. We'll call these copies _local_ copies. To get a local copy, you can _fork_ or _clone_ a repository. Forking is recommended when the code you're copying isn't yours, i.e. you don't have direct access to it, but you want to suggest a modification. Otherwise, you clone the repository.\n",
    "\n",
    "Once a local copy is created, GitHub tracks changes to the files within a repository via _commits_. These are incremental changes to source code. \n",
    "\n",
    "```{admonition} \n",
    ":class: warning\n",
    "Avoid storing binary files (e.g *.pdf, *.o) on GitHub, as even incremental changes to these result in large commits and you'll run out of your storage/bandwidth quota.\n",
    "```\n",
    "\n",
    "It is good practice to add an **informative** commit message so that future you can understand what changes were made in a commit. \n",
    "\n",
    "\n",
    "\n",
    "## 2.2 Documentation\n",
    "\n",
    "Documentation is essential for people (including yourself) to be able to use and reproduce your results. \n",
    "There are roughly 3 levels of it:\n",
    "\n",
    "1. In-line comments\n",
    "2. Examples\n",
    "3. API- (application programmer's interface) level documentation\n",
    "\n",
    "In-line comments may be enough for yourself to understand code that you wrote a few months back, and they are useful, but insufficient on their own. A much better practice is to write a _docstring_, a short description for each function, which has the following general structure (regardless of programming language, though shown in Python):\n",
    "\n",
    "- A short description of the function,\n",
    "- Input parameters with types and a brief description (e.g. any restrictions, default values, physical/mathematical meaning),\n",
    "- Output values, with types and brief descriptions."
   ]
  },
  {
   "cell_type": "code",
   "execution_count": 1,
   "id": "40d17c61",
   "metadata": {},
   "outputs": [],
   "source": [
    "def square(a):\n",
    "    \"\"\"\n",
    "    Computes the square of a number via a*a.\n",
    "    \n",
    "    Parameters\n",
    "    ----------\n",
    "    a: complex<float>\n",
    "        Number to square. Note that for complex numbers, it doesn't conjugate.\n",
    "    \n",
    "    Returns\n",
    "    -------\n",
    "    b: complex<float>\n",
    "        a*a.\n",
    "    \"\"\"\n",
    "    b = a*a\n",
    "    return b"
   ]
  },
  {
   "cell_type": "markdown",
   "id": "75a3eb2a",
   "metadata": {},
   "source": [
    "If you write docstrings in the above format (which is called the NumPy format), or a different standardized format such as the Google format, it can be converted to API documentation automatically. For example, [this C++/Python software package](https://oscode.readthedocs.io/en/latest/) has API documentation that was auto-generated from docstrings. Docstrings may contain math formulae, or more complicated examples, see e.g the [SciPy documentation](https://docs.scipy.org/doc/scipy/reference/generated/scipy.integrate.solve_ivp.html) (click on \"source\" near the name of the function the link leads you to and you'll see that it was all generated from a docstring)."
   ]
  },
  {
   "cell_type": "markdown",
   "id": "451eb154",
   "metadata": {},
   "source": [
    "## 2.3 Testing\n",
    "\n",
    "Debugging code becomes far quicker when it is written in a modular way (i.e. is broken down into functions that only do one specific task), and and the modules have separate tests. This allows you to narrow down _where_ the bug is coming from. If you have version control, you can also track _when_ a bug was introduced. Roughly speaking, there are two types of tests,\n",
    "\n",
    "- unit tests (test the functionality of a small function that only does one thing),\n",
    "- integration tests (these test whether functions work together as expected),\n",
    "\n",
    "both of which are necessary to ensure that your code is working correctly."
   ]
  },
  {
   "cell_type": "markdown",
   "id": "e942dc2f-9e2d-4a79-8e1c-63adf3f13a67",
   "metadata": {},
   "source": [
    "```{admonition} Exercises\n",
    ":class: danger\n",
    "Please see the exercises (particularly 3 and 4) described in the README.md file of repository [git-tutorial-2025](https://github.com/cu-comptools/git-tutorial-2025).\n",
    "```"
   ]
  },
  {
   "cell_type": "code",
   "execution_count": null,
   "id": "dcda2f9c-5c07-49ad-8a42-523b14b6ff93",
   "metadata": {},
   "outputs": [],
   "source": []
  }
 ],
 "metadata": {
  "kernelspec": {
   "display_name": "Python 3 (ipykernel)",
   "language": "python",
   "name": "python3"
  },
  "language_info": {
   "codemirror_mode": {
    "name": "ipython",
    "version": 3
   },
   "file_extension": ".py",
   "mimetype": "text/x-python",
   "name": "python",
   "nbconvert_exporter": "python",
   "pygments_lexer": "ipython3",
   "version": "3.12.3"
  }
 },
 "nbformat": 4,
 "nbformat_minor": 5
}
